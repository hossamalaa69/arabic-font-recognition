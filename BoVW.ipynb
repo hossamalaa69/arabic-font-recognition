{
 "cells": [
  {
   "cell_type": "code",
   "execution_count": 1,
   "metadata": {},
   "outputs": [],
   "source": [
    "from Utils import *\n",
    "from sklearn.model_selection import train_test_split\n",
    "from sklearn.pipeline import make_pipeline\n",
    "from sklearn.preprocessing import StandardScaler\n",
    "from sklearn.svm import SVC\n",
    "import pickle\n",
    "import time\n",
    "import cv2\n",
    "import numpy as np\n",
    "from sklearn.cluster import KMeans\n",
    "from sklearn.cluster import MiniBatchKMeans\n",
    "from sklearn.ensemble import RandomForestClassifier\n",
    "# from sklearn.decomposition import PCA"
   ]
  },
  {
   "cell_type": "code",
   "execution_count": 2,
   "metadata": {},
   "outputs": [],
   "source": [
    "data_set, Y = readDataSet()"
   ]
  },
  {
   "cell_type": "code",
   "execution_count": 3,
   "metadata": {},
   "outputs": [],
   "source": [
    "X_train, X_testValid, Y_train, Y_testValid = train_test_split(data_set, Y, test_size=0.2, random_state=60)  "
   ]
  },
  {
   "cell_type": "code",
   "execution_count": 4,
   "metadata": {},
   "outputs": [
    {
     "data": {
      "text/plain": [
       "<matplotlib.image.AxesImage at 0x1b440d91190>"
      ]
     },
     "execution_count": 4,
     "metadata": {},
     "output_type": "execute_result"
    },
    {
     "data": {
      "image/png": "[encoded data removed]",
      "text/plain": [
       "<Figure size 432x288 with 1 Axes>"
      ]
     },
     "metadata": {
      "needs_background": "light"
     },
     "output_type": "display_data"
    }
   ],
   "source": [
    "# visulaize dataset after training\n",
    "import matplotlib.pyplot as plt\n",
    "from random import seed\n",
    "from random import randint\n",
    "# seed random number generator\n",
    "i = randint(0, len(X_train) -1)\n",
    "plt.imshow(X_train[i])"
   ]
  },
  {
   "cell_type": "code",
   "execution_count": 5,
   "metadata": {},
   "outputs": [],
   "source": [
    "# some constants\n",
    "subset_size = 60000 # subset size choosen out of local features for kmeans clustering\n",
    "no_clusters = 512 # number of codes in generated codebook (parameter for kmeans)\n",
    "no_descriptors = 150 # maximum number of descriptors extracted by SIFT\n",
    "b_size = 4096 # batch_size for MiniBatch Kmeans"
   ]
  },
  {
   "cell_type": "code",
   "execution_count": 6,
   "metadata": {},
   "outputs": [],
   "source": [
    "def getDescriptors(img):\n",
    "    sift = cv2.SIFT_create(no_descriptors)\n",
    "    kp, des = sift.detectAndCompute(img, None)\n",
    "    return des"
   ]
  },
  {
   "cell_type": "code",
   "execution_count": 7,
   "metadata": {},
   "outputs": [],
   "source": [
    "def vstackDescriptors(descriptor_list):\n",
    "    descriptors = np.array(descriptor_list[0])\n",
    "    for descriptor in descriptor_list[1:]:\n",
    "        descriptors = np.vstack((descriptors, descriptor))\n",
    "    return descriptors"
   ]
  },
  {
   "cell_type": "code",
   "execution_count": 8,
   "metadata": {},
   "outputs": [],
   "source": [
    "def clusterDescriptors(descriptors, no_clusters):\n",
    "    start_time = time.time()\n",
    "#     kmeans = KMeans(n_clusters = no_clusters).fit(descriptors)\n",
    "    kmeans = MiniBatchKMeans(n_clusters= no_clusters, batch_size=b_size).fit(descriptors)\n",
    "    end_time = time.time()\n",
    "    print(\"time elapsed for computing Kmeans : \", end_time - start_time)\n",
    "    return kmeans"
   ]
  },
  {
   "cell_type": "code",
   "execution_count": 9,
   "metadata": {},
   "outputs": [],
   "source": [
    "def generate_codebook(subset_size=40000, no_clusters=1024):\n",
    "    start_time = time.time()\n",
    "    descriptor_list = []\n",
    "    image_count = len(X_train)\n",
    "    for img in X_train:\n",
    "        des = np.array(getDescriptors(img))\n",
    "        if len(descriptor_list) == 0 :\n",
    "            descriptors = des\n",
    "        else:\n",
    "            descriptors = np.vstack((descriptors, des))\n",
    "        descriptor_list.append(des)\n",
    "        \n",
    "#     descriptors = vstackDescriptors(descriptor_list)\n",
    "    print(\"descriptors shape before selecting a subset : \", descriptors.shape)\n",
    "    # select a number of descriptors at random to train the KMeans classifier to get the codes\n",
    "    number_of_rows = descriptors.shape[0]\n",
    "    random_indices = np.random.choice(number_of_rows, size=subset_size, replace=False)\n",
    "    descriptors = descriptors[random_indices, :]\n",
    "    # reduce the dimensionality of the selected keypoints using pca\n",
    "#     pca = PCA(n_components=64)\n",
    "#     descriptors = pca.fit_transform(descriptors)\n",
    "    print(\"descriptors shape after selecting a subset: \", descriptors.shape)\n",
    "    codes = clusterDescriptors(descriptors, no_clusters)\n",
    "    end_time = time.time()\n",
    "    print(\"time taken to generate codebook : \" , end_time - start_time)\n",
    "    return codes, descriptor_list\n",
    "    "
   ]
  },
  {
   "cell_type": "code",
   "execution_count": 10,
   "metadata": {},
   "outputs": [
    {
     "name": "stdout",
     "output_type": "stream",
     "text": [
      "descriptors shape before selecting a subset :  (170087, 128)\n",
      "descriptors shape after selecting a subset:  (60000, 128)\n",
      "time elapsed for computing Kmeans :  34.74600028991699\n",
      "time taken to generate codebook :  99.52799940109253\n"
     ]
    }
   ],
   "source": [
    "codes, dlist  = generate_codebook(subset_size, no_clusters)\n"
   ]
  },
  {
   "cell_type": "code",
   "execution_count": 11,
   "metadata": {},
   "outputs": [],
   "source": [
    "# Extract features\n",
    "def extractFeatures(kmeans, descriptor_list, image_count, no_clusters):\n",
    "    im_features = np.array([np.zeros(no_clusters) for i in range(image_count)])\n",
    "    for i in range(image_count):\n",
    "        idx = kmeans.predict(descriptor_list[i])\n",
    "        uniqueValues, occurCount = np.unique(idx, return_counts=True)\n",
    "        im_features[i][uniqueValues] = occurCount \n",
    "#     print(\"features before normalization : \", im_features)   \n",
    "    scale = StandardScaler().fit(im_features)        \n",
    "    im_features = scale.transform(im_features)\n",
    "#     print(\"features after normalization : \", im_features)\n",
    "    print(\"features normalized.\")\n",
    "\n",
    "    return im_features"
   ]
  },
  {
   "cell_type": "code",
   "execution_count": 12,
   "metadata": {
    "scrolled": false
   },
   "outputs": [
    {
     "name": "stdout",
     "output_type": "stream",
     "text": [
      "features normalized.\n"
     ]
    }
   ],
   "source": [
    "im_features = extractFeatures(codes, dlist, len(X_train), no_clusters)"
   ]
  },
  {
   "cell_type": "code",
   "execution_count": 13,
   "metadata": {},
   "outputs": [
    {
     "name": "stdout",
     "output_type": "stream",
     "text": [
      "time taken for lpq feature extraction :  28.628023147583008\n"
     ]
    }
   ],
   "source": [
    "# extract lpq features for training data\n",
    "start_time = time.time()\n",
    "lpq_train = []\n",
    "for i in range(len(X_train)):\n",
    "    lpq_train.append(lpq(X_train[i]))\n",
    "end_time = time.time()\n",
    "print(\"time taken for lpq feature extraction : \", end_time - start_time)\n",
    "# extract lpq features for test data\n",
    "lpq_test = []\n",
    "for i in range(len(X_testValid)):\n",
    "    lpq_test.append(lpq(X_testValid[i]))"
   ]
  },
  {
   "cell_type": "code",
   "execution_count": 14,
   "metadata": {},
   "outputs": [
    {
     "name": "stdout",
     "output_type": "stream",
     "text": [
      "features normalized.\n",
      "(337, 512)\n"
     ]
    }
   ],
   "source": [
    "# get descriptors for test set\n",
    "dlist_test = []\n",
    "for img in X_testValid:\n",
    "    des = getDescriptors(img)\n",
    "    dlist_test.append(des)\n",
    "im_features_test = extractFeatures(codes, dlist_test, len(X_testValid), no_clusters)\n",
    "print(im_features_test.shape)"
   ]
  },
  {
   "cell_type": "code",
   "execution_count": 15,
   "metadata": {},
   "outputs": [
    {
     "name": "stdout",
     "output_type": "stream",
     "text": [
      "(1348, 767)\n",
      "(337, 767)\n"
     ]
    }
   ],
   "source": [
    "# concatenate lpq and BoVW\n",
    "im_features_conc = np.concatenate((im_features, lpq_train), axis = 1 )\n",
    "im_features_test_conc = np.concatenate((im_features_test, lpq_test), axis = 1 )\n",
    "print(im_features_conc.shape)\n",
    "print(im_features_test_conc.shape)"
   ]
  },
  {
   "cell_type": "code",
   "execution_count": 16,
   "metadata": {},
   "outputs": [],
   "source": [
    "# # apply KNN\n",
    "# from sklearn.neighbors import KNeighborsClassifier\n",
    "# neigh = KNeighborsClassifier(n_neighbors=5)\n",
    "# neigh.fit(im_features, Y_train)\n",
    "\n",
    "# # testingg\n",
    "# answers = []\n",
    "# y_pred = neigh.predict(im_features_test)"
   ]
  },
  {
   "cell_type": "code",
   "execution_count": 17,
   "metadata": {},
   "outputs": [],
   "source": [
    "# test with BoVW only\n",
    "X = np.array(im_features)\n",
    "y = np.array(Y_train)\n",
    "clf = make_pipeline(StandardScaler(), SVC(gamma='auto'))\n",
    "clf.fit(X, y)\n",
    "# predict the test data\n",
    "y_pred_BoVW = (clf.predict(im_features_test))"
   ]
  },
  {
   "cell_type": "code",
   "execution_count": 18,
   "metadata": {},
   "outputs": [],
   "source": [
    "# test with BoVW only\n",
    "X = np.array(lpq_train)\n",
    "y = np.array(Y_train)\n",
    "clf = make_pipeline(StandardScaler(), SVC(gamma='auto'))\n",
    "clf.fit(X, y)\n",
    "# predict the test data\n",
    "y_pred_lpq = (clf.predict(lpq_test))"
   ]
  },
  {
   "cell_type": "code",
   "execution_count": 19,
   "metadata": {},
   "outputs": [],
   "source": [
    "# test concatenated BoVW + LPQ\n",
    "X = np.array(im_features_conc)\n",
    "y = np.array(Y_train)\n",
    "clf = make_pipeline(StandardScaler(), SVC(gamma='auto'))\n",
    "clf.fit(X, y)\n",
    "# predict the test data\n",
    "y_pred_conc = (clf.predict(im_features_test_conc))"
   ]
  },
  {
   "cell_type": "code",
   "execution_count": 20,
   "metadata": {},
   "outputs": [
    {
     "name": "stdout",
     "output_type": "stream",
     "text": [
      "acc_BoVW :  96.43916913946587 %\n",
      "acc_lpq :  95.54896142433235 %\n",
      "acc_conc :  98.51632047477746 %\n"
     ]
    }
   ],
   "source": [
    "# calculate accuracy for concatenated BoVW + LPQ\n",
    "acc_BoVW = np.mean(y_pred_BoVW == Y_testValid) * 100\n",
    "acc_lpq = np.mean(y_pred_lpq == Y_testValid) * 100\n",
    "acc_conc = np.mean(y_pred_conc == Y_testValid) * 100\n",
    "print(\"acc_BoVW : \", acc_BoVW, \"%\")\n",
    "print(\"acc_lpq : \", acc_lpq, \"%\")\n",
    "print(\"acc_conc : \", acc_conc, \"%\")"
   ]
  },
  {
   "cell_type": "code",
   "execution_count": 21,
   "metadata": {
    "scrolled": false
   },
   "outputs": [
    {
     "data": {
      "image/png": "[encoded data removed]",
      "text/plain": [
       "<Figure size 432x288 with 1 Axes>"
      ]
     },
     "metadata": {
      "needs_background": "light"
     },
     "output_type": "display_data"
    },
    {
     "name": "stdout",
     "output_type": "stream",
     "text": [
      "Actual class : rekaa\n",
      "predicted_class :  parsi\n",
      "---------------------------------------\n"
     ]
    },
    {
     "data": {
      "image/png": "[encoded data removed]",
      "text/plain": [
       "<Figure size 432x288 with 1 Axes>"
      ]
     },
     "metadata": {
      "needs_background": "light"
     },
     "output_type": "display_data"
    },
    {
     "name": "stdout",
     "output_type": "stream",
     "text": [
      "Actual class : mohakek\n",
      "predicted_class :  thuluth\n",
      "---------------------------------------\n"
     ]
    },
    {
     "data": {
      "image/png": "[encoded data removed]",
      "text/plain": [
       "<Figure size 432x288 with 1 Axes>"
      ]
     },
     "metadata": {
      "needs_background": "light"
     },
     "output_type": "display_data"
    },
    {
     "name": "stdout",
     "output_type": "stream",
     "text": [
      "Actual class : mohakek\n",
      "predicted_class :  thuluth\n",
      "---------------------------------------\n"
     ]
    },
    {
     "data": {
      "image/png": "[encoded data removed]",
      "text/plain": [
       "<Figure size 432x288 with 1 Axes>"
      ]
     },
     "metadata": {
      "needs_background": "light"
     },
     "output_type": "display_data"
    },
    {
     "name": "stdout",
     "output_type": "stream",
     "text": [
      "Actual class : thuluth\n",
      "predicted_class :  mohakek\n",
      "---------------------------------------\n"
     ]
    },
    {
     "data": {
      "image/png": "[encoded data removed]",
      "text/plain": [
       "<Figure size 432x288 with 1 Axes>"
      ]
     },
     "metadata": {
      "needs_background": "light"
     },
     "output_type": "display_data"
    },
    {
     "name": "stdout",
     "output_type": "stream",
     "text": [
      "Actual class : rekaa\n",
      "predicted_class :  parsi\n",
      "---------------------------------------\n"
     ]
    }
   ],
   "source": [
    "classes = [\"diwani\", \"naskh\", \"parsi\", \"rekaa\", \"thuluth\", \"maghribi\", \"kufi\", \"mohakek\", \"Squar-kufic\"]\n",
    "\n",
    "# show wrongly classified examples\n",
    "for i in range(len(X_testValid)):\n",
    "    if(y_pred_conc[i] != Y_testValid[i]):\n",
    "        # Visualize each test figure. \n",
    "        fig = plt.figure()\n",
    "        plt.imshow(X_testValid[i])\n",
    "        plt.axis(\"off\")\n",
    "        plt.show()\n",
    "\n",
    "        # Print the actual class of each test figure. \n",
    "        print(\"Actual class :\", classes[Y_testValid[i]])\n",
    "        print(\"predicted_class : \", classes[y_pred_conc[i]])\n",
    "        print(\"---------------------------------------\")"
   ]
  },
  {
   "cell_type": "code",
   "execution_count": 22,
   "metadata": {},
   "outputs": [
    {
     "name": "stdout",
     "output_type": "stream",
     "text": [
      "97.92284866468842\n"
     ]
    }
   ],
   "source": [
    "# random forest\n",
    "X = np.array(im_features_conc)\n",
    "y = np.array(Y_train)\n",
    "\n",
    "clf = RandomForestClassifier(random_state=12)\n",
    "clf.fit(X, y)\n",
    "y_pred = (clf.predict(im_features_test_conc))\n",
    "#print(Y_validation)\n",
    "acc = np.mean(y_pred == Y_testValid) * 100\n",
    "print(acc)"
   ]
  }
 ],
 "metadata": {
  "kernelspec": {
   "display_name": "Python 3",
   "language": "python",
   "name": "python3"
  },
  "language_info": {
   "codemirror_mode": {
    "name": "ipython",
    "version": 3
   },
   "file_extension": ".py",
   "mimetype": "text/x-python",
   "name": "python",
   "nbconvert_exporter": "python",
   "pygments_lexer": "ipython3",
   "version": "3.8.3"
  }
 },
 "nbformat": 4,
 "nbformat_minor": 4
}
