{
 "cells": [
  {
   "cell_type": "code",
   "execution_count": 1,
   "metadata": {},
   "outputs": [],
   "source": [
    "import cv2\n",
    "import os\n",
    "import matplotlib.pyplot as plt\n",
    "import numpy as np\n",
    "from sklearn.model_selection import train_test_split\n",
    "from scipy.signal import convolve2d\n",
    "import torch"
   ]
  },
  {
   "cell_type": "code",
   "execution_count": 2,
   "metadata": {},
   "outputs": [],
   "source": [
    "def getBorderColor(img):\n",
    "    border = np.asarray(img[0,:])\n",
    "    border = np.concatenate((border, np.asarray(img[-1, :])))\n",
    "    border = np.concatenate((border, np.asarray(img[:, 0])))\n",
    "    border = np.concatenate((border, np.asarray(img[:, -1])))\n",
    "    return np.bincount(border).argmax()\n",
    "\n",
    "\n",
    "def pre_processing(img):\n",
    "    _, img_binarized = cv2.threshold(img, 120, 255, cv2.THRESH_BINARY + cv2.THRESH_OTSU)    \n",
    "    if(getBorderColor(img_binarized) != 0):\n",
    "        img_binarized = cv2.bitwise_not(img_binarized) \n",
    "    \n",
    "    kernel = np.ones((30,30), np.uint8)\n",
    "    img_dilation = cv2.dilate(img_binarized, kernel, iterations=1)\n",
    "    cnts = cv2.findContours(img_dilation, cv2.RETR_EXTERNAL, cv2.CHAIN_APPROX_SIMPLE)[0]\n",
    "    cntsSorted = sorted(cnts, key=lambda x: cv2.contourArea(x), reverse=True)\n",
    "    (x,y,w,h) = cv2.boundingRect(cntsSorted[0])\n",
    "    return img_binarized[y:y+h, x:x+w]    \n",
    "\n",
    "def showImage(img):\n",
    "    plt.imshow(img, cmap='gray')\n",
    "    plt.show()    "
   ]
  },
  {
   "cell_type": "code",
   "execution_count": 3,
   "metadata": {},
   "outputs": [],
   "source": [
    "data_set = []\n",
    "Y = []\n",
    "for i in range(1, 10):\n",
    "    for filename in os.listdir(\"ACdata_base/\" + str(i)):\n",
    "        img = cv2.imread(os.path.join(\"ACdata_base/\" + str(i),filename), cv2.IMREAD_GRAYSCALE)\n",
    "        if img is not None:\n",
    "            data_set.append(pre_processing(img))\n",
    "            Y.append(i-1)"
   ]
  },
  {
   "cell_type": "code",
   "execution_count": 54,
   "metadata": {},
   "outputs": [],
   "source": [
    "X_train, X_testValid, Y_train, Y_testValid = train_test_split(data_set, Y, test_size=0.4, random_state=13)\n",
    "X_validation, X_test, Y_validation, Y_test = train_test_split(X_testValid, Y_testValid, test_size=0.5, random_state=38)            "
   ]
  },
  {
   "cell_type": "code",
   "execution_count": 57,
   "metadata": {},
   "outputs": [],
   "source": [
    "# unique, counts = np.unique(np.array(Y_train), return_counts=True)\n",
    "# print(counts)\n",
    "# unique, counts1 = np.unique(np.array(Y_validation), return_counts=True)\n",
    "# print(counts1)\n",
    "# unique, counts2 = np.unique(np.array(Y_test), return_counts=True)\n",
    "# print(counts2)\n"
   ]
  },
  {
   "cell_type": "code",
   "execution_count": 58,
   "metadata": {},
   "outputs": [],
   "source": [
    "\n",
    "def lpq(img, winSize=3, freqestim=1, mode='nh'):\n",
    "    \n",
    "    rho=0.90\n",
    "\n",
    "    STFTalpha=1/winSize  # alpha in STFT approaches (for Gaussian derivative alpha=1)\n",
    "    sigmaS=(winSize-1)/4 # Sigma for STFT Gaussian window (applied if freqestim==2)\n",
    "    sigmaA=8/(winSize-1) # Sigma for Gaussian derivative quadrature filters (applied if freqestim==3)\n",
    "\n",
    "    convmode='valid' # Compute descriptor responses only on part that have full neigborhood. Use 'same' if all pixels are included (extrapolates np.image with zeros).\n",
    "\n",
    "    img=np.float64(img) # Convert np.image to double\n",
    "    r=(winSize-1)/2 # Get radius from window size\n",
    "    x=np.arange(-r,r+1)[np.newaxis] # Form spatial coordinates in window\n",
    "\n",
    "    if freqestim==1:  #  STFT uniform window\n",
    "        #  Basic STFT filters\n",
    "        w0=np.ones_like(x)\n",
    "        w1=np.exp(-2*np.pi*x*STFTalpha*1j)\n",
    "        w2=np.conj(w1)\n",
    "\n",
    "    ## Run filters to compute the frequency response in the four points. Store np.real and np.imaginary parts separately\n",
    "    # Run first filter\n",
    "    filterResp1=convolve2d(convolve2d(img,w0.T,convmode),w1,convmode)\n",
    "    filterResp2=convolve2d(convolve2d(img,w1.T,convmode),w0,convmode)\n",
    "    filterResp3=convolve2d(convolve2d(img,w1.T,convmode),w1,convmode)\n",
    "    filterResp4=convolve2d(convolve2d(img,w1.T,convmode),w2,convmode)\n",
    "\n",
    "    # Initilize frequency domain matrix for four frequency coordinates (np.real and np.imaginary parts for each frequency).\n",
    "    freqResp=np.dstack([filterResp1.real, filterResp1.imag,\n",
    "                        filterResp2.real, filterResp2.imag,\n",
    "                        filterResp3.real, filterResp3.imag,\n",
    "                        filterResp4.real, filterResp4.imag])\n",
    "\n",
    "    ## Perform quantization and compute LPQ codewords\n",
    "    inds = np.arange(freqResp.shape[2])[np.newaxis,np.newaxis,:]\n",
    "    LPQdesc=((freqResp>0)*(2**inds)).sum(2)\n",
    "\n",
    "    ## Switch format to uint8 if LPQ code np.image is required as output\n",
    "    if mode=='im':\n",
    "        LPQdesc=np.uint8(LPQdesc)\n",
    "\n",
    "    ## Histogram if needed\n",
    "    if mode=='nh' or mode=='h':\n",
    "        LPQdesc=np.histogram(LPQdesc.flatten(),range(256))[0]\n",
    "\n",
    "    ## Normalize histogram if needed\n",
    "    if mode=='nh':\n",
    "        LPQdesc=LPQdesc/LPQdesc.sum()\n",
    "    \n",
    "    return LPQdesc"
   ]
  },
  {
   "cell_type": "code",
   "execution_count": 59,
   "metadata": {},
   "outputs": [],
   "source": [
    "def getFeatures(img):\n",
    "    return lpq(img)\n",
    "\n",
    "def getFeaturesList(images):\n",
    "   features = []\n",
    "   for i in range(len(images)):\n",
    "        features.append(getFeatures(images[i]))\n",
    "   return np.asarray(features)    "
   ]
  },
  {
   "cell_type": "code",
   "execution_count": 61,
   "metadata": {},
   "outputs": [
    {
     "name": "stdout",
     "output_type": "stream",
     "text": [
      "(1011, 255)\n",
      "(337, 255)\n",
      "(337, 255)\n"
     ]
    }
   ],
   "source": [
    "train_features = getFeaturesList(X_train)\n",
    "validation_features = getFeaturesList(X_validation)\n",
    "test_features = getFeaturesList(X_test)\n",
    "\n",
    "print(train_features.shape)\n",
    "print(validation_features.shape)\n",
    "print(test_features.shape)"
   ]
  },
  {
   "cell_type": "code",
   "execution_count": 99,
   "metadata": {},
   "outputs": [
    {
     "name": "stderr",
     "output_type": "stream",
     "text": [
      "C:\\Users\\hossa\\AppData\\Local\\Temp/ipykernel_8320/1770282767.py:8: UserWarning: To copy construct from a tensor, it is recommended to use sourceTensor.clone().detach() or sourceTensor.clone().detach().requires_grad_(True), rather than torch.tensor(sourceTensor).\n",
      "  Y_validation = torch.tensor(Y_validation)\n"
     ]
    }
   ],
   "source": [
    "# H is hidden dimension; D_out is output dimension.\n",
    "N, D_in, H1, D_out = train_features.shape[0], train_features.shape[1], 128, 9\n",
    "\n",
    "x = torch.tensor(train_features).double()\n",
    "y = torch.tensor(Y_train)\n",
    "\n",
    "x_validation = torch.tensor(validation_features).double()\n",
    "Y_validation = torch.tensor(Y_validation)\n",
    "\n",
    "x_test = torch.tensor(test_features).double()\n",
    "y_test = torch.tensor(Y_test)"
   ]
  },
  {
   "cell_type": "code",
   "execution_count": 115,
   "metadata": {},
   "outputs": [],
   "source": [
    "device = 'cuda' if torch.cuda.is_available() else 'cpu'\n",
    "\n",
    "model = torch.nn.Sequential(\n",
    "    torch.nn.Linear(D_in, H1),\n",
    "    torch.nn.ReLU(),    \n",
    "    torch.nn.Linear(H1, D_out),\n",
    "    torch.nn.LogSoftmax(dim=1)\n",
    ")\n",
    "\n",
    "loss_fn = torch.nn.NLLLoss()\n",
    "\n",
    "learning_rate = 2*1e-5\n",
    "\n",
    "model.to(device)\n",
    "model.double()\n",
    "optimizer = torch.optim.Adam(model.parameters(), lr = learning_rate)\n",
    "\n",
    "training_losses = []\n",
    "validation_losses = []"
   ]
  },
  {
   "cell_type": "code",
   "execution_count": 124,
   "metadata": {},
   "outputs": [
    {
     "name": "stdout",
     "output_type": "stream",
     "text": [
      "500 0.030153019979845614   [Training]\n",
      "500 0.13599264626317686   [Validation]\n",
      "1000 0.029773852855023847   [Training]\n",
      "1000 0.13588646556898748   [Validation]\n",
      "1500 0.029400212699370733   [Training]\n",
      "1500 0.13578644614170082   [Validation]\n",
      "2000 0.029031459059672117   [Training]\n",
      "2000 0.13570067741713507   [Validation]\n",
      "2500 0.02866763631965883   [Training]\n",
      "2500 0.13561614043227985   [Validation]\n",
      "3000 0.02830970228689304   [Training]\n",
      "3000 0.13551935779086072   [Validation]\n",
      "3500 0.027957030681080595   [Training]\n",
      "3500 0.13542713450007124   [Validation]\n",
      "4000 0.02760952068291685   [Training]\n",
      "4000 0.1353375932768716   [Validation]\n",
      "4500 0.027266268602053934   [Training]\n",
      "4500 0.13525685532864976   [Validation]\n",
      "5000 0.026928143616453105   [Training]\n",
      "5000 0.13517575940264154   [Validation]\n",
      "5500 0.026595329821991892   [Training]\n",
      "5500 0.13509811268460922   [Validation]\n",
      "6000 0.026267464456733173   [Training]\n",
      "6000 0.13502182387824635   [Validation]\n",
      "6500 0.025944388147620394   [Training]\n",
      "6500 0.13495021803260157   [Validation]\n",
      "7000 0.025626037716192557   [Training]\n",
      "7000 0.1348862504685506   [Validation]\n",
      "7500 0.02531241967008378   [Training]\n",
      "7500 0.13482114905057446   [Validation]\n",
      "8000 0.02500349738894002   [Training]\n",
      "8000 0.1347483143346673   [Validation]\n",
      "8500 0.024698427817602182   [Training]\n",
      "8500 0.1346900079997118   [Validation]\n",
      "9000 0.02439877841518894   [Training]\n",
      "9000 0.1346257799940017   [Validation]\n",
      "9500 0.024103755044165117   [Training]\n",
      "9500 0.13456560782761823   [Validation]\n",
      "10000 0.023813466934627218   [Training]\n",
      "10000 0.13450510061151819   [Validation]\n",
      "10500 0.023527765755107493   [Training]\n",
      "10500 0.13445183936790786   [Validation]\n",
      "11000 0.023246439435925394   [Training]\n",
      "11000 0.13440289204175562   [Validation]\n",
      "11500 0.022969389678956568   [Training]\n",
      "11500 0.13436026954967242   [Validation]\n",
      "12000 0.022696537000154813   [Training]\n",
      "12000 0.1343219147991623   [Validation]\n",
      "12500 0.02242790361574299   [Training]\n",
      "12500 0.13429045510944648   [Validation]\n",
      "13000 0.022163331884914508   [Training]\n",
      "13000 0.13426868849607423   [Validation]\n",
      "13500 0.021902761686852863   [Training]\n",
      "13500 0.13425499649403833   [Validation]\n",
      "14000 0.021646141254508946   [Training]\n",
      "14000 0.13424787719197845   [Validation]\n",
      "14500 0.02139341960469471   [Training]\n",
      "14500 0.1342478717384967   [Validation]\n",
      "15000 0.02114444761341173   [Training]\n",
      "15000 0.13425741905316238   [Validation]\n"
     ]
    }
   ],
   "source": [
    "for layer in model.children():\n",
    "   if hasattr(layer, 'reset_parameters'):\n",
    "       layer.reset_parameters()\n",
    "\n",
    "for t in range(100000):\n",
    "    #print(t)\n",
    "    x = x.to(device)\n",
    "    y = y.to(device)\n",
    "    \n",
    "    y_pred = model(x)\n",
    "\n",
    "    loss = loss_fn(y_pred, y)\n",
    "    if t % 500 == 499:\n",
    "        print(t+1, loss.item(),\"  [Training]\")\n",
    "        training_losses.append(loss.item())\n",
    " \n",
    "    optimizer.zero_grad()\n",
    "    loss.backward()\n",
    "    optimizer.step()\n",
    "    \n",
    "    if t % 500 == 499:\n",
    "        with torch.no_grad():\n",
    "            x_valid = x_validation.to(device)\n",
    "            y_valid = Y_validation.to(device)\n",
    "            y_pred2 = model(x_valid)\n",
    "            loss = loss_fn(y_pred2, y_valid)\n",
    "            print(t+1, loss.item(),\"  [Validation]\" )\n",
    "            validation_losses.append(loss.item())\n"
   ]
  },
  {
   "cell_type": "code",
   "execution_count": 125,
   "metadata": {},
   "outputs": [
    {
     "data": {
      "image/png": "[encoded data removed]",
      "text/plain": [
       "<Figure size 432x288 with 1 Axes>"
      ]
     },
     "metadata": {
      "needs_background": "light"
     },
     "output_type": "display_data"
    }
   ],
   "source": [
    "plt.plot(training_losses, '-r')\n",
    "plt.plot(validation_losses, '-g')\n",
    "plt.show()         "
   ]
  },
  {
   "cell_type": "code",
   "execution_count": 137,
   "metadata": {},
   "outputs": [
    {
     "name": "stdout",
     "output_type": "stream",
     "text": [
      "Training Accuracy =  99.90108803165182 %\n",
      "Validation Accuracy =  97.03264094955489 %\n",
      "Test Accuracy =  98.51632047477746 %\n"
     ]
    }
   ],
   "source": [
    "with torch.no_grad():\n",
    "    y_pred = model(x)\n",
    "    y_pred = torch.argmax(torch.exp(y_pred), dim=1)\n",
    "    acc = (torch.sum(y_pred==y).item() / len(y)) * 100\n",
    "    print(\"Training Accuracy = \", acc, \"%\")    \n",
    "\n",
    "    x_valid = x_validation.to(device)\n",
    "    y_valid = Y_validation.to(device)\n",
    "    y_pred = model(x_valid)\n",
    "    y_pred = torch.argmax(torch.exp(y_pred), dim=1)\n",
    "    acc = (torch.sum(y_pred==y_valid).item() / len(y_valid)) * 100\n",
    "    print(\"Validation Accuracy = \", acc, \"%\")\n",
    "\n",
    "    x_test = x_test.to(device)\n",
    "    y_test = y_test.to(device)\n",
    "\n",
    "    y_pred = model(x_test)\n",
    "    y_pred = torch.argmax(torch.exp(y_pred), dim=1)\n",
    "    acc = (torch.sum(y_pred==y_test).item() / len(y_test)) * 100\n",
    "    print(\"Test Accuracy = \", acc, \"%\")"
   ]
  },
  {
   "cell_type": "code",
   "execution_count": 127,
   "metadata": {},
   "outputs": [],
   "source": [
    "torch.save(model, \"model.pt\")"
   ]
  },
  {
   "cell_type": "code",
   "execution_count": 134,
   "metadata": {},
   "outputs": [],
   "source": [
    "model2 = torch.load(\"model.pt\")\n",
    "# for name, param in model2.named_parameters():\n",
    "#     if param.requires_grad:\n",
    "#         print(name, param.data)\n",
    "        "
   ]
  },
  {
   "cell_type": "code",
   "execution_count": 138,
   "metadata": {},
   "outputs": [
    {
     "name": "stdout",
     "output_type": "stream",
     "text": [
      "Training Accuracy =  99.90108803165182 %\n",
      "Validation Accuracy =  97.03264094955489 %\n",
      "Test Accuracy =  98.51632047477746 %\n"
     ]
    }
   ],
   "source": [
    "with torch.no_grad():\n",
    "    y_pred = model2(x)\n",
    "    y_pred = torch.argmax(torch.exp(y_pred), dim=1)\n",
    "    acc = (torch.sum(y_pred==y).item() / len(y)) * 100\n",
    "    print(\"Training Accuracy = \", acc, \"%\")    \n",
    "\n",
    "    x_valid = x_validation.to(device)\n",
    "    y_valid = Y_validation.to(device)\n",
    "    y_pred = model2(x_valid)\n",
    "    y_pred = torch.argmax(torch.exp(y_pred), dim=1)\n",
    "    acc = (torch.sum(y_pred==y_valid).item() / len(y_valid)) * 100\n",
    "    print(\"Validation Accuracy = \", acc, \"%\")\n",
    "\n",
    "    x_test = x_test.to(device)\n",
    "    y_test = y_test.to(device)\n",
    "\n",
    "    y_pred = model2(x_test)\n",
    "    y_pred = torch.argmax(torch.exp(y_pred), dim=1)\n",
    "    acc = (torch.sum(y_pred==y_test).item() / len(y_test)) * 100\n",
    "    print(\"Test Accuracy = \", acc, \"%\")"
   ]
  }
 ],
 "metadata": {
  "interpreter": {
   "hash": "af19850de543c87aa9c5433cdfdc668182c4fce690f4a520383c35fe24f2761b"
  },
  "kernelspec": {
   "display_name": "Python 3.9.5 64-bit",
   "language": "python",
   "name": "python3"
  },
  "language_info": {
   "codemirror_mode": {
    "name": "ipython",
    "version": 3
   },
   "file_extension": ".py",
   "mimetype": "text/x-python",
   "name": "python",
   "nbconvert_exporter": "python",
   "pygments_lexer": "ipython3",
   "version": "3.9.5"
  },
  "orig_nbformat": 4
 },
 "nbformat": 4,
 "nbformat_minor": 2
}
