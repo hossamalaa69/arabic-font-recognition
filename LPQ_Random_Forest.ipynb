{
 "cells": [
  {
   "cell_type": "code",
   "execution_count": 1,
   "metadata": {},
   "outputs": [],
   "source": [
    "from Utils import *\n",
    "from sklearn.model_selection import train_test_split\n",
    "import pickle\n",
    "from sklearn.ensemble import RandomForestClassifier\n"
   ]
  },
  {
   "cell_type": "code",
   "execution_count": 2,
   "metadata": {},
   "outputs": [],
   "source": [
    "data_set, Y = readDataSet()\n",
    "X_train, X_testValid, Y_train, Y_testValid = train_test_split(data_set, Y, test_size=0.2, random_state=60)            "
   ]
  },
  {
   "cell_type": "code",
   "execution_count": 3,
   "metadata": {},
   "outputs": [],
   "source": [
    "features_train = getFeaturesList(X_train)\n",
    "features_test = getFeaturesList(X_testValid)"
   ]
  },
  {
   "cell_type": "code",
   "execution_count": 4,
   "metadata": {},
   "outputs": [
    {
     "name": "stdout",
     "output_type": "stream",
     "text": [
      "98.51632047477746\n"
     ]
    }
   ],
   "source": [
    "X = np.array(features_train)\n",
    "y = np.array(Y_train)\n",
    "\n",
    "clf = RandomForestClassifier(random_state=12)\n",
    "clf.fit(X, y)\n",
    "y_pred = (clf.predict(features_test))\n",
    "#print(Y_validation)\n",
    "acc = np.mean(y_pred == Y_testValid) * 100\n",
    "print(acc)"
   ]
  },
  {
   "cell_type": "code",
   "execution_count": 5,
   "metadata": {},
   "outputs": [
    {
     "name": "stdout",
     "output_type": "stream",
     "text": [
      "100.0\n"
     ]
    }
   ],
   "source": [
    "y_pred = clf.predict(features_train)\n",
    "#print(Y_validation)\n",
    "acc = np.mean(y_pred == Y_train) * 100\n",
    "print(acc)"
   ]
  },
  {
   "cell_type": "code",
   "execution_count": 6,
   "metadata": {},
   "outputs": [],
   "source": [
    "pickle.dump(clf, open('RF_model.pkl', 'wb'))"
   ]
  },
  {
   "cell_type": "code",
   "execution_count": 9,
   "metadata": {},
   "outputs": [],
   "source": [
    "clf2 = pickle.load(open('RF_model.pkl', 'rb'))"
   ]
  },
  {
   "cell_type": "code",
   "execution_count": 10,
   "metadata": {},
   "outputs": [
    {
     "name": "stdout",
     "output_type": "stream",
     "text": [
      "98.51632047477746 %\n"
     ]
    }
   ],
   "source": [
    "y_pred = (clf2.predict(features_test))\n",
    "#print(Y_validation)\n",
    "acc = np.mean(y_pred == Y_testValid) * 100\n",
    "print(acc, \"%\")"
   ]
  },
  {
   "cell_type": "code",
   "execution_count": 16,
   "metadata": {},
   "outputs": [],
   "source": [
    "\n",
    "model = pickle.load(open('RF_model.pkl', 'rb'))"
   ]
  },
  {
   "cell_type": "code",
   "execution_count": 25,
   "metadata": {},
   "outputs": [
    {
     "name": "stdout",
     "output_type": "stream",
     "text": [
      "0.036428018620139675\n"
     ]
    }
   ],
   "source": [
    "data = readTestSet(folder=\"ACdata_base/9\")\n",
    "arr_time = []\n",
    "f_results = open(\"results.txt\", \"w\")\n",
    "f_time = open(\"time.txt\", \"w\")\n",
    "for img in data:\n",
    "    img = pre_processing(img)\n",
    "    start_time = time.time()\n",
    "    feature = getFeatures(img).reshape(1, -1)\n",
    "    y_class = model.predict(feature) + 1\n",
    "    end_time = time.time()\n",
    "    f_results.write(str(y_class[0]) + \"\\n\")\n",
    "    f_time.write(str(round((end_time-start_time), 2)) + \"\\n\")\n",
    "    arr_time.append(end_time-start_time)\n",
    "print(sum(arr_time)/len(arr_time))\n",
    "f_results.close()\n",
    "f_time.close()"
   ]
  }
 ],
 "metadata": {
  "interpreter": {
   "hash": "af19850de543c87aa9c5433cdfdc668182c4fce690f4a520383c35fe24f2761b"
  },
  "kernelspec": {
   "display_name": "Python 3.9.5 64-bit",
   "language": "python",
   "name": "python3"
  },
  "language_info": {
   "codemirror_mode": {
    "name": "ipython",
    "version": 3
   },
   "file_extension": ".py",
   "mimetype": "text/x-python",
   "name": "python",
   "nbconvert_exporter": "python",
   "pygments_lexer": "ipython3",
   "version": "3.9.5"
  },
  "orig_nbformat": 4
 },
 "nbformat": 4,
 "nbformat_minor": 2
}
