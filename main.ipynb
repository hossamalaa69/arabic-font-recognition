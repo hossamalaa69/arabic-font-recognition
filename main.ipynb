{
 "cells": [
  {
   "cell_type": "code",
   "execution_count": 5,
   "metadata": {},
   "outputs": [],
   "source": [
    "import cv2\n",
    "import os\n",
    "import matplotlib.pyplot as plt\n",
    "import numpy as np\n",
    "from sklearn.model_selection import train_test_split\n",
    "from skimage import feature\n",
    "from skimage.morphology import binary_erosion\n",
    "import torch\n"
   ]
  },
  {
   "cell_type": "code",
   "execution_count": 46,
   "metadata": {},
   "outputs": [],
   "source": [
    "def getBorderColor(img):\n",
    "    \n",
    "    border = np.asarray(img[0,:])\n",
    "    border = np.concatenate((border, np.asarray(img[-1, :])))\n",
    "    border = np.concatenate((border, np.asarray(img[:, 0])))\n",
    "    border = np.concatenate((border, np.asarray(img[:, -1])))\n",
    "    return np.bincount(border).argmax()\n",
    "\n",
    "\n",
    "def pre_processing(img):\n",
    "    _, img_binarized = cv2.threshold(img, 120, 255, cv2.THRESH_BINARY + cv2.THRESH_OTSU)    \n",
    "    if(getBorderColor(img_binarized) != 0):\n",
    "        img_binarized = cv2.bitwise_not(img_binarized) \n",
    "    return img_binarized\n",
    "\n",
    "\n",
    "\n",
    "def showImage(img):\n",
    "    plt.imshow(img, cmap='gray')\n",
    "    plt.show()    \n"
   ]
  },
  {
   "cell_type": "code",
   "execution_count": null,
   "metadata": {},
   "outputs": [],
   "source": [
    "def getFeaturesHOG(img):\n",
    "   img = cv2.resize(img, (256, 128))\n",
    "   cell_size = (32, 32)  # h x w in pixels\n",
    "   block_size = (2, 2)  # h x w in cells\n",
    "   nbins = 9  # number of orientation bins\n",
    "   # winSize is the size of the image cropped to an multiple of the cell size\n",
    "   hog = cv2.HOGDescriptor(_winSize=(img.shape[1] // cell_size[1] * cell_size[1],\n",
    "                                    img.shape[0] // cell_size[0] * cell_size[0]),\n",
    "                            _blockSize=(block_size[1] * cell_size[1],\n",
    "                                        block_size[0] * cell_size[0]),\n",
    "                            _blockStride=(cell_size[1], cell_size[0]),\n",
    "                            _cellSize=(cell_size[1], cell_size[0]),\n",
    "                            _nbins=nbins)\n",
    "\n",
    "   hog_feats = hog.compute(img)\n",
    "   return hog_feats.flatten()  \n",
    "\n"
   ]
  },
  {
   "cell_type": "code",
   "execution_count": 65,
   "metadata": {},
   "outputs": [],
   "source": [
    "def getFeaturesVP(img):\n",
    "    #img = cv2.resize(img, (256, 256))\n",
    "    img = cv2.Canny(img, 100, 200)\n",
    "    #showImage(img)\n",
    "    # wihch is about 10% of image height\n",
    "    MIN_LINE_PIXELS = int(0.10 * img.shape[0])\n",
    "    lines = cv2.HoughLinesP(img, 1, np.pi/180, MIN_LINE_PIXELS, None, MIN_LINE_PIXELS, 0)\n",
    "    v_lines_lengths = []\n",
    "    h_lines_lengths = []\n",
    "    \n",
    "    if lines is not None:\n",
    "            for line in lines:\n",
    "                x1,y1,x2,y2 = line[0]\n",
    "                #print(x1, y1, x2, y2)\n",
    "                cv2.line(img,(x1,y1),(x2,y2),20,2)\n",
    "                # vertical lines\n",
    "                if x1 == x2:\n",
    "                    v_lines_lengths.append(abs(y2-y1))\n",
    "                # horizontal    \n",
    "                elif y1 == y2:\n",
    "                    h_lines_lengths.append(abs(x2-x1))\n",
    "                # else:\n",
    "                #     continue\n",
    "                # cv2.line(img, (x1,y1), (x2,y2), 50, 2)    \n",
    "\n",
    "    #showImage(img)\n",
    "    v_lines_lengths = np.asarray(v_lines_lengths)\n",
    "    h_lines_lengths = np.asarray(h_lines_lengths)  \n",
    "    \n",
    "    v_lines_count = v_lines_lengths.shape[0]\n",
    "    h_lines_count = h_lines_lengths.shape[0]\n",
    "    \n",
    "    # normalize heights of the vertical lines with respect to image height\n",
    "    v_lines_lengths = v_lines_lengths/img.shape[0]\n",
    "\n",
    "    if v_lines_count:\n",
    "        LVL = max(v_lines_lengths)\n",
    "        avg_v_line = np.mean(v_lines_lengths)\n",
    "        LVL_diff_avg = LVL - avg_v_line\n",
    "        variance_v_lines = np.var(v_lines_lengths)\n",
    "    else:\n",
    "        LVL = 0\n",
    "        avg_v_line = 0\n",
    "        LVL_diff_avg = 0\n",
    "        variance_v_lines = 0\n",
    "    return [v_lines_count, h_lines_count, LVL, avg_v_line, LVL_diff_avg, variance_v_lines]\n"
   ]
  },
  {
   "cell_type": "markdown",
   "metadata": {},
   "source": [
    "# Read Data, Split Training, Validation, Test"
   ]
  },
  {
   "cell_type": "code",
   "execution_count": 66,
   "metadata": {},
   "outputs": [],
   "source": [
    "data_set = []\n",
    "Y = []\n",
    "for i in range(1, 10):\n",
    "    for filename in os.listdir(\"ACdata_base/\" + str(i)):\n",
    "        img = cv2.imread(os.path.join(\"ACdata_base/\" + str(i),filename), cv2.IMREAD_GRAYSCALE)\n",
    "        if img is not None:\n",
    "            data_set.append(pre_processing(img))\n",
    "            Y.append(i)\n",
    "            \n",
    "X_train, X_testValid, Y_train, Y_testValid = train_test_split(data_set, Y, test_size=0.4, random_state=42)\n",
    "X_validation, X_test, Y_validation, Y_test = train_test_split(X_testValid, Y_testValid, test_size=0.5, random_state=42)            "
   ]
  },
  {
   "cell_type": "code",
   "execution_count": 68,
   "metadata": {},
   "outputs": [
    {
     "name": "stdout",
     "output_type": "stream",
     "text": [
      "[10, 10, 0.5, 0.32127659574468087, 0.17872340425531913, 0.02756450882752377]\n"
     ]
    }
   ],
   "source": [
    "# img = data_set[1600]\n",
    "# print(getFeaturesVP(img))"
   ]
  },
  {
   "cell_type": "code",
   "execution_count": 69,
   "metadata": {},
   "outputs": [],
   "source": [
    "f1 = []\n",
    "for i in range(len(data_set)):\n",
    "    f1.append(getFeaturesVP(data_set[i])) \n",
    "#print(len(f1))\n"
   ]
  },
  {
   "cell_type": "code",
   "execution_count": 70,
   "metadata": {},
   "outputs": [],
   "source": [
    "# print(f1[1600])"
   ]
  },
  {
   "cell_type": "code",
   "execution_count": 38,
   "metadata": {},
   "outputs": [],
   "source": [
    "def getFeatures(images):\n",
    "   x_features = []\n",
    "   for i in range(len(images)):\n",
    "        x_features.append(getFeaturesHOG(images[i]))\n",
    "   return np.asarray(x_features)"
   ]
  },
  {
   "cell_type": "code",
   "execution_count": 39,
   "metadata": {},
   "outputs": [
    {
     "name": "stdout",
     "output_type": "stream",
     "text": [
      "(1011, 756)\n",
      "1011\n",
      "(337, 756)\n",
      "337\n",
      "(337, 756)\n",
      "337\n"
     ]
    }
   ],
   "source": [
    "train_features = getFeatures(X_train)\n",
    "validation_features = getFeatures(X_validation)\n",
    "test_features = getFeatures(X_test)\n",
    "\n",
    "\n",
    "print(train_features.shape)\n",
    "print(len(Y_train))\n",
    "\n",
    "print(validation_features.shape)\n",
    "print(len(Y_validation))\n",
    "\n",
    "print(test_features.shape)\n",
    "print(len(Y_test))\n"
   ]
  },
  {
   "cell_type": "code",
   "execution_count": 40,
   "metadata": {},
   "outputs": [],
   "source": [
    "# H is hidden dimension; D_out is output dimension.\n",
    "N, D_in, H1, D_out = train_features.shape[0], train_features.shape[1], 512, 9\n",
    "\n",
    "x = torch.tensor(train_features).double()\n",
    "y = torch.tensor(Y_train)\n",
    "y = y-1 #output layer nodes indices [0:8] not [1:9]\n",
    "\n",
    "x_validation = torch.tensor(validation_features).double()\n",
    "Y_validation = torch.tensor(Y_validation)\n",
    "Y_validation = Y_validation - 1\n",
    "\n",
    "x_test = torch.tensor(test_features).double()\n",
    "y_test = torch.tensor(Y_test)\n",
    "y_test = y_test - 1"
   ]
  },
  {
   "cell_type": "code",
   "execution_count": 53,
   "metadata": {},
   "outputs": [],
   "source": [
    "device = 'cuda' if torch.cuda.is_available() else 'cpu'\n",
    "\n",
    "model = torch.nn.Sequential(\n",
    "    torch.nn.Linear(D_in, H1),\n",
    "    torch.nn.ReLU(),\n",
    "    torch.nn.Linear(H1, D_out),\n",
    "    torch.nn.LogSoftmax(dim=1)\n",
    ")\n",
    "\n",
    "loss_fn = torch.nn.NLLLoss()\n",
    "\n",
    "learning_rate = 5*1e-5\n",
    "\n",
    "\n",
    "model.to(device)\n",
    "model.double()\n",
    "optimizer = torch.optim.Adam(model.parameters(), lr = learning_rate)\n",
    "\n",
    "training_losses = []\n",
    "validation_losses = []"
   ]
  },
  {
   "cell_type": "code",
   "execution_count": 55,
   "metadata": {},
   "outputs": [
    {
     "name": "stdout",
     "output_type": "stream",
     "text": [
      "99 1.418710801764868   [Training]\n",
      "99 1.4101692389650486   [Validation]\n",
      "199 0.9464333416326796   [Training]\n",
      "199 0.9810289450989643   [Validation]\n",
      "299 0.6878903740671647   [Training]\n",
      "299 0.7571108421187897   [Validation]\n",
      "399 0.5333189317474448   [Training]\n",
      "399 0.6277693003334123   [Validation]\n",
      "499 0.432509765171366   [Training]\n",
      "499 0.5457869029031185   [Validation]\n",
      "599 0.3619081832006586   [Training]\n",
      "599 0.4907307339486155   [Validation]\n",
      "699 0.30909350568283184   [Training]\n",
      "699 0.45177197509597833   [Validation]\n",
      "799 0.2674504934023507   [Training]\n",
      "799 0.42303578945608766   [Validation]\n",
      "899 0.23332601980493653   [Training]\n",
      "899 0.4010807928825268   [Validation]\n",
      "999 0.2046108812807776   [Training]\n",
      "999 0.38396850503536   [Validation]\n",
      "1099 0.17998833846903045   [Training]\n",
      "1099 0.37050908280880257   [Validation]\n",
      "1199 0.15861492444008607   [Training]\n",
      "1199 0.3598446874798658   [Validation]\n",
      "1299 0.1398993958331403   [Training]\n",
      "1299 0.35138646442773164   [Validation]\n",
      "1399 0.12344135705688722   [Training]\n",
      "1399 0.34471062141883707   [Validation]\n",
      "1499 0.10895542342878477   [Training]\n",
      "1499 0.3395574903871551   [Validation]\n",
      "1599 0.09620246828203241   [Training]\n",
      "1599 0.3356207275434382   [Validation]\n",
      "1699 0.08498809849880933   [Training]\n",
      "1699 0.33269281444078486   [Validation]\n",
      "1799 0.07513802750574625   [Training]\n",
      "1799 0.33058445086656524   [Validation]\n",
      "1899 0.06650368209121847   [Training]\n",
      "1899 0.3292132945916987   [Validation]\n",
      "1999 0.058942522942605206   [Training]\n",
      "1999 0.3284588208153464   [Validation]\n"
     ]
    }
   ],
   "source": [
    "for layer in model.children():\n",
    "   if hasattr(layer, 'reset_parameters'):\n",
    "       layer.reset_parameters()\n",
    "\n",
    "for t in range(2000):\n",
    "\n",
    "    #print(t)\n",
    "    x = x.to(device)\n",
    "    y = y.to(device)\n",
    "    \n",
    "    y_pred = model(x)\n",
    "\n",
    "    loss = loss_fn(y_pred, y)\n",
    "    if t % 100 == 99:\n",
    "        print(t, loss.item(),\"  [Training]\")\n",
    "        training_losses.append(loss.item())\n",
    " \n",
    "    optimizer.zero_grad()\n",
    "    loss.backward()\n",
    "    optimizer.step()\n",
    "    \n",
    "    if t % 100 == 99:\n",
    "        with torch.no_grad():\n",
    "            x_valid = x_validation.to(device)\n",
    "            y_valid = Y_validation.to(device)\n",
    "            y_pred2 = model(x_valid)\n",
    "            loss = loss_fn(y_pred2, y_valid)\n",
    "            print(t, loss.item(),\"  [Validation]\" )\n",
    "            validation_losses.append(loss.item())\n"
   ]
  },
  {
   "cell_type": "code",
   "execution_count": 56,
   "metadata": {},
   "outputs": [
    {
     "data": {
      "image/png": "[encoded data removed]",
      "text/plain": [
       "<Figure size 432x288 with 1 Axes>"
      ]
     },
     "metadata": {
      "needs_background": "light"
     },
     "output_type": "display_data"
    }
   ],
   "source": [
    "plt.plot(training_losses, '-r')\n",
    "plt.plot(validation_losses, '-g')\n",
    "plt.show()         "
   ]
  },
  {
   "cell_type": "code",
   "execution_count": 57,
   "metadata": {},
   "outputs": [
    {
     "name": "stdout",
     "output_type": "stream",
     "text": [
      "Training Accuracy =  99.70326409495549 %\n",
      "Validation Accuracy =  89.02077151335311 %\n",
      "Test Accuracy =  91.3946587537092 %\n"
     ]
    }
   ],
   "source": [
    "with torch.no_grad():\n",
    "    y_pred = model(x)\n",
    "    y_pred = torch.argmax(torch.exp(y_pred), dim=1)\n",
    "    acc = (torch.sum(y_pred==y).item() / len(y)) * 100\n",
    "    print(\"Training Accuracy = \", acc, \"%\")    \n",
    "\n",
    "    x_valid = x_validation.to(device)\n",
    "    y_valid = Y_validation.to(device)\n",
    "    y_pred = model(x_valid)\n",
    "    y_pred = torch.argmax(torch.exp(y_pred), dim=1)\n",
    "    acc = (torch.sum(y_pred==y_valid).item() / len(y_valid)) * 100\n",
    "    print(\"Validation Accuracy = \", acc, \"%\")\n",
    "\n",
    "    x_test = x_test.to(device)\n",
    "    y_test = y_test.to(device)\n",
    "\n",
    "    y_pred = model(x_test)\n",
    "    y_pred = torch.argmax(torch.exp(y_pred), dim=1)\n",
    "    acc = (torch.sum(y_pred==y_test).item() / len(y_test)) * 100\n",
    "    print(\"Test Accuracy = \", acc, \"%\")"
   ]
  }
 ],
 "metadata": {
  "interpreter": {
   "hash": "af19850de543c87aa9c5433cdfdc668182c4fce690f4a520383c35fe24f2761b"
  },
  "kernelspec": {
   "display_name": "Python 3.9.5 64-bit",
   "language": "python",
   "name": "python3"
  },
  "language_info": {
   "codemirror_mode": {
    "name": "ipython",
    "version": 3
   },
   "file_extension": ".py",
   "mimetype": "text/x-python",
   "name": "python",
   "nbconvert_exporter": "python",
   "pygments_lexer": "ipython3",
   "version": "3.9.5"
  },
  "orig_nbformat": 4
 },
 "nbformat": 4,
 "nbformat_minor": 2
}
