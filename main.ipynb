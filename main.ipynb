{
 "cells": [
  {
   "cell_type": "code",
   "execution_count": 63,
   "metadata": {},
   "outputs": [],
   "source": [
    "import cv2\n",
    "import os\n",
    "import matplotlib.pyplot as plt\n",
    "import numpy as np\n",
    "from skimage import feature\n"
   ]
  },
  {
   "cell_type": "code",
   "execution_count": 64,
   "metadata": {},
   "outputs": [],
   "source": [
    "def getBorderColor(img):\n",
    "    \n",
    "    border = np.asarray(img[0,:])\n",
    "    border = np.concatenate((border, np.asarray(img[-1, :])))\n",
    "    border = np.concatenate((border, np.asarray(img[:, 0])))\n",
    "    border = np.concatenate((border, np.asarray(img[:, -1])))\n",
    "    #print(border)\n",
    "    #print(border)\n",
    "    return np.bincount(border).argmax()\n",
    "\n",
    "def pre_processing(img):\n",
    "    #img_blurred = cv2.medianBlur(img,5)\n",
    "    #img_binarized = cv2.adaptiveThreshold(img, 255, cv2.ADAPTIVE_THRESH_GAUSSIAN_C, cv2.THRESH_BINARY, 11, 2)\n",
    "    _, img_binarized = cv2.threshold(img, 120, 255, cv2.THRESH_BINARY + cv2.THRESH_OTSU)    \n",
    "    if(getBorderColor(img_binarized) != 0):\n",
    "        img_binarized = cv2.bitwise_not(img_binarized) \n",
    "    #img_binarized = adaptiveThresh(img, t=15, div=8)\n",
    "    return img_binarized"
   ]
  },
  {
   "cell_type": "code",
   "execution_count": 65,
   "metadata": {},
   "outputs": [],
   "source": [
    "def load_images_from_folder(folder):\n",
    "    images = []\n",
    "    for filename in os.listdir(folder):\n",
    "        img = cv2.imread(os.path.join(folder,filename), cv2.IMREAD_GRAYSCALE)\n",
    "        if img is not None:\n",
    "            images.append(pre_processing(img))\n",
    "    return images"
   ]
  },
  {
   "cell_type": "code",
   "execution_count": 66,
   "metadata": {},
   "outputs": [],
   "source": [
    "#follow the ration 60% 20% 20%\n",
    "TRAINING_SIZE = 114\n",
    "VALIDATION_SIZE = 38\n",
    "TEST_SIZE = 38\n",
    "\n",
    "TRAINING_OFFSET = TRAINING_SIZE\n",
    "VALIDATION_OFFSET = TRAINING_OFFSET + VALIDATION_SIZE\n",
    "\n",
    "training_set = []\n",
    "validation_set = []\n",
    "test_set = []\n",
    "\n",
    "for i in range (1, 10):\n",
    "    class_i_images = load_images_from_folder(\"ACdata_base/\" + str(i))\n",
    "    training_set.append(class_i_images[0:TRAINING_OFFSET])\n",
    "    validation_set.append(class_i_images[TRAINING_OFFSET: VALIDATION_OFFSET])\n",
    "    test_set.append(class_i_images[VALIDATION_OFFSET:])"
   ]
  },
  {
   "cell_type": "code",
   "execution_count": 67,
   "metadata": {},
   "outputs": [],
   "source": [
    "\n",
    "def showImage(img):\n",
    "    plt.imshow(img, cmap='gray')\n",
    "    plt.show()\n",
    "    #print(getBorderColor(img))\n",
    "    #w, h = img.shape[:2]\n",
    "    #print(cv2.countNonZero(img)/(w*h) * 100)\n",
    "\n",
    "\n",
    "#arr = np.array([[1,2,3], [4,5,6], [7,8,9]])\n",
    "#getBorderColor(arr)"
   ]
  },
  {
   "cell_type": "code",
   "execution_count": 68,
   "metadata": {},
   "outputs": [],
   "source": [
    "\n",
    "# for i in range(len(test_set)):\n",
    "#     for j in range(len(test_set[i])):\n",
    "#         showImage(test_set[i][j])"
   ]
  },
  {
   "cell_type": "code",
   "execution_count": 69,
   "metadata": {},
   "outputs": [],
   "source": [
    "def getFeaturesHOG(img):\n",
    "   img = cv2.resize(img, (256, 128))\n",
    "   cell_size = (32, 32)  # h x w in pixels\n",
    "   block_size = (2, 2)  # h x w in cells\n",
    "   nbins = 9  # number of orientation bins\n",
    "   # winSize is the size of the image cropped to an multiple of the cell size\n",
    "   hog = cv2.HOGDescriptor(_winSize=(img.shape[1] // cell_size[1] * cell_size[1],\n",
    "                                    img.shape[0] // cell_size[0] * cell_size[0]),\n",
    "                            _blockSize=(block_size[1] * cell_size[1],\n",
    "                                        block_size[0] * cell_size[0]),\n",
    "                            _blockStride=(cell_size[1], cell_size[0]),\n",
    "                            _cellSize=(cell_size[1], cell_size[0]),\n",
    "                            _nbins=nbins)\n",
    "\n",
    "   hog_feats = hog.compute(img)\n",
    "   return hog_feats.flatten() "
   ]
  },
  {
   "cell_type": "code",
   "execution_count": 70,
   "metadata": {},
   "outputs": [],
   "source": [
    "def get_X_Y_Train():\n",
    "   X_Train = []\n",
    "   Y_Train = []\n",
    "   for i in range(len(training_set)):\n",
    "      for j in range(len(training_set[i])):\n",
    "        X_Train.append(getFeaturesHOG(training_set[i][j]))\n",
    "        Y_Train.append(i+1)\n",
    "   return (X_Train, Y_Train)"
   ]
  },
  {
   "cell_type": "code",
   "execution_count": 71,
   "metadata": {},
   "outputs": [
    {
     "name": "stdout",
     "output_type": "stream",
     "text": [
      "756\n"
     ]
    }
   ],
   "source": [
    "img = training_set[0][0]\n",
    "print(len(getFeaturesHOG(img)))"
   ]
  },
  {
   "cell_type": "code",
   "execution_count": 72,
   "metadata": {},
   "outputs": [
    {
     "data": {
      "image/png": "[encoded data removed]",
      "text/plain": [
       "<Figure size 432x288 with 1 Axes>"
      ]
     },
     "metadata": {
      "needs_background": "light"
     },
     "output_type": "display_data"
    }
   ],
   "source": [
    "# pre processing of the image (baseline estimation)\n",
    "def enhanced_pre_processing(img):\n",
    "    horz_proj = np.sum(img, 1)\n",
    "    lb = np.argmax(horz_proj)\n",
    "    avg_row_density = np.average(horz_proj)\n",
    "    for inx, row_proj in enumerate(horz_proj):\n",
    "        if row_proj >= avg_row_density:\n",
    "            lu = inx\n",
    "            break\n",
    "    # img[lu,:] = 255\n",
    "    # img[lb,:] = 255\n",
    "    showImage(img)\n",
    "    return lb,lu\n",
    "\n",
    "\n",
    "image = load_images_from_folder(\"ACdata_base/1\")[0]\n",
    "lb, lu = enhanced_pre_processing(image)\n"
   ]
  },
  {
   "cell_type": "code",
   "execution_count": 73,
   "metadata": {},
   "outputs": [],
   "source": [
    "# feature extraction parameters\n",
    "# number of cells according to paper guidlines\n",
    "N = 20\n",
    "# width of kernal according to paper guidlines\n",
    "WIDTH = 8 \n",
    "HEIGHT = int(image.shape[0] / N)\n",
    "# a paramter of my selection\n",
    "STRID = 4\n"
   ]
  },
  {
   "cell_type": "code",
   "execution_count": 74,
   "metadata": {},
   "outputs": [],
   "source": [
    "# feature f1 (density of foreground (black) pixels.)\n",
    "\n",
    "img_height = image.shape[0]\n",
    "img_width = image.shape[1]\n",
    "f1 = []\n",
    "# Crop out the window and calculate f1 for each cell\n",
    "for r in range(img_width - 1, WIDTH - 1, -STRID):\n",
    "    foreground = []\n",
    "    for c in range(0, img_height, HEIGHT):\n",
    "        window = image[c:c+HEIGHT-1, r-WIDTH:r]\n",
    "        foreground.append(np.sum(window == 255) / (WIDTH * HEIGHT))\n",
    "    f1.append(np.sum(foreground))\n"
   ]
  },
  {
   "cell_type": "code",
   "execution_count": 75,
   "metadata": {},
   "outputs": [],
   "source": [
    "# number of transitions black/white between two consecutive cells.\n",
    "f2 = []\n",
    "for r in range(img_width - 1, WIDTH - 1, -STRID):\n",
    "    cells = []\n",
    "    #get the cells in each window\n",
    "    for c in range(0, img_height, HEIGHT):\n",
    "        cells.append(image[c:c+HEIGHT-1, r-WIDTH:r])\n",
    "    summtion = 0\n",
    "    for i in range(2,N):\n",
    "        summtion += np.abs(np.sum(cells[i] == 255) -  np.sum(cells[i - 1] == 255))\n",
    "    f2.append(summtion)\n",
    "        \n"
   ]
  },
  {
   "cell_type": "code",
   "execution_count": 76,
   "metadata": {},
   "outputs": [],
   "source": [
    "def get_center_of_mass(window):\n",
    "    # calculate moments of binary image\n",
    "    M = cv2.moments(window)\n",
    "    # calculate x,y coordinate of center\n",
    "    cX = int(M[\"m10\"] / (M[\"m00\"] + 1e-5))\n",
    "    cY = int(M[\"m01\"] / (M[\"m00\"] + 1e-5))\n",
    "    return cX,cY\n"
   ]
  },
  {
   "cell_type": "code",
   "execution_count": 77,
   "metadata": {},
   "outputs": [],
   "source": [
    "# number of transitions black/white between two consecutive cells.\n",
    "f3 = []\n",
    "centers = []\n",
    "for r in range(img_width - 1, WIDTH - 1, -STRID):\n",
    "    centers.append(get_center_of_mass(image[:, r-WIDTH:r]))\n",
    "f3.append(np.sqrt(np.power(centers[0][0], 2) + np.power(centers[0][1], 2)))\n",
    "for i in range(1,len(centers)):\n",
    "    f3.append(np.sqrt(np.power(centers[i][0] - centers[i - 1][0],\n",
    "                       2) + np.power(centers[i][1] - centers[i - 1][1], 2)))"
   ]
  },
  {
   "cell_type": "code",
   "execution_count": 78,
   "metadata": {},
   "outputs": [
    {
     "data": {
      "text/plain": [
       "173"
      ]
     },
     "execution_count": 78,
     "metadata": {},
     "output_type": "execute_result"
    }
   ],
   "source": [
    "# number of transitions black/white between two consecutive cells.\n",
    "f4 = []\n",
    "centers = []\n",
    "for r in range(img_width - 1, WIDTH - 1, -STRID):\n",
    "    centers.append(get_center_of_mass(image[:, r-WIDTH:r]))\n",
    "for i in range(0, len(centers)):\n",
    "    f4.append(np.sqrt(np.power(centers[i][1] - lb, 2) / img_height))"
   ]
  },
  {
   "cell_type": "code",
   "execution_count": null,
   "metadata": {},
   "outputs": [],
   "source": []
  }
 ],
 "metadata": {
  "interpreter": {
   "hash": "af19850de543c87aa9c5433cdfdc668182c4fce690f4a520383c35fe24f2761b"
  },
  "kernelspec": {
   "display_name": "Python 3.9.5 64-bit",
   "language": "python",
   "name": "python3"
  },
  "language_info": {
   "codemirror_mode": {
    "name": "ipython",
    "version": 3
   },
   "file_extension": ".py",
   "mimetype": "text/x-python",
   "name": "python",
   "nbconvert_exporter": "python",
   "pygments_lexer": "ipython3",
   "version": "3.8.5"
  },
  "orig_nbformat": 4
 },
 "nbformat": 4,
 "nbformat_minor": 2
}
