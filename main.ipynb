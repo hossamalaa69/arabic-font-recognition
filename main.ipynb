{
 "cells": [
  {
   "cell_type": "code",
   "execution_count": 1,
   "metadata": {},
   "outputs": [],
   "source": [
    "import cv2\n",
    "import os\n",
    "import matplotlib.pyplot as plt\n",
    "import numpy as np\n",
    "from sklearn.model_selection import train_test_split\n",
    "\n",
    "import torch\n"
   ]
  },
  {
   "cell_type": "code",
   "execution_count": 2,
   "metadata": {},
   "outputs": [],
   "source": [
    "def getBorderColor(img):\n",
    "    \n",
    "    border = np.asarray(img[0,:])\n",
    "    border = np.concatenate((border, np.asarray(img[-1, :])))\n",
    "    border = np.concatenate((border, np.asarray(img[:, 0])))\n",
    "    border = np.concatenate((border, np.asarray(img[:, -1])))\n",
    "    return np.bincount(border).argmax()\n",
    "\n",
    "\n",
    "def pre_processing(img):\n",
    "    _, img_binarized = cv2.threshold(img, 120, 255, cv2.THRESH_BINARY + cv2.THRESH_OTSU)    \n",
    "    if(getBorderColor(img_binarized) != 0):\n",
    "        img_binarized = cv2.bitwise_not(img_binarized) \n",
    "    return img_binarized\n",
    "\n",
    "\n",
    "\n",
    "def showImage(img):\n",
    "    plt.imshow(img, cmap='gray')\n",
    "    plt.show()    \n",
    "\n",
    "\n",
    "\n",
    "def getFeaturesHOG(img):\n",
    "   img = cv2.resize(img, (256, 128))\n",
    "   cell_size = (32, 32)  # h x w in pixels\n",
    "   block_size = (2, 2)  # h x w in cells\n",
    "   nbins = 9  # number of orientation bins\n",
    "   # winSize is the size of the image cropped to an multiple of the cell size\n",
    "   hog = cv2.HOGDescriptor(_winSize=(img.shape[1] // cell_size[1] * cell_size[1],\n",
    "                                    img.shape[0] // cell_size[0] * cell_size[0]),\n",
    "                            _blockSize=(block_size[1] * cell_size[1],\n",
    "                                        block_size[0] * cell_size[0]),\n",
    "                            _blockStride=(cell_size[1], cell_size[0]),\n",
    "                            _cellSize=(cell_size[1], cell_size[0]),\n",
    "                            _nbins=nbins)\n",
    "\n",
    "   hog_feats = hog.compute(img)\n",
    "   return hog_feats.flatten()     "
   ]
  },
  {
   "cell_type": "markdown",
   "metadata": {},
   "source": [
    "# Read Data, Split Training, Validation, Test"
   ]
  },
  {
   "cell_type": "code",
   "execution_count": 3,
   "metadata": {},
   "outputs": [],
   "source": [
    "data_set = []\n",
    "Y = []\n",
    "for i in range(1, 10):\n",
    "    for filename in os.listdir(\"ACdata_base/\" + str(i)):\n",
    "        img = cv2.imread(os.path.join(\"ACdata_base/\" + str(i),filename), cv2.IMREAD_GRAYSCALE)\n",
    "        if img is not None:\n",
    "            data_set.append(pre_processing(img))\n",
    "            Y.append(i)\n",
    "            \n",
    "X_train, X_testValid, Y_train, Y_testValid = train_test_split(data_set, Y, test_size=0.4, random_state=42)\n",
    "X_validation, X_test, Y_validation, Y_test = train_test_split(X_testValid, Y_testValid, test_size=0.5, random_state=42)            "
   ]
  },
  {
   "cell_type": "code",
   "execution_count": 4,
   "metadata": {},
   "outputs": [],
   "source": [
    "def getFeatures(images):\n",
    "   x_features = []\n",
    "   for i in range(len(images)):\n",
    "        x_features.append(getFeaturesHOG(images[i]))\n",
    "   return np.asarray(x_features)"
   ]
  },
  {
   "cell_type": "code",
   "execution_count": 5,
   "metadata": {},
   "outputs": [
    {
     "name": "stdout",
     "output_type": "stream",
     "text": [
      "(1011, 756)\n",
      "1011\n",
      "(337, 756)\n",
      "337\n",
      "(337, 756)\n",
      "337\n"
     ]
    }
   ],
   "source": [
    "train_features = getFeatures(X_train)\n",
    "validation_features = getFeatures(X_validation)\n",
    "test_features = getFeatures(X_test)\n",
    "\n",
    "\n",
    "print(train_features.shape)\n",
    "print(len(Y_train))\n",
    "\n",
    "print(validation_features.shape)\n",
    "print(len(Y_validation))\n",
    "\n",
    "print(test_features.shape)\n",
    "print(len(Y_test))\n"
   ]
  },
  {
   "cell_type": "code",
   "execution_count": 6,
   "metadata": {},
   "outputs": [],
   "source": [
    "# H is hidden dimension; D_out is output dimension.\n",
    "N, D_in, H, D_out = train_features.shape[0], train_features.shape[1], 512, 9\n",
    "\n",
    "\n",
    "# Create random Tensors to hold inputs and outputs\n",
    "x = torch.tensor(train_features)\n",
    "y = torch.tensor(Y_train)\n",
    "y = y-1 #output layer nodes indices [0:8] not [1:9]\n",
    "\n",
    "x_validation = torch.tensor(validation_features)\n",
    "Y_validation = torch.tensor(Y_validation)\n",
    "Y_validation = Y_validation - 1\n",
    "\n",
    "x_test = torch.tensor(test_features)\n",
    "y_test = torch.tensor(Y_test)\n",
    "y_test = y_test - 1"
   ]
  },
  {
   "cell_type": "code",
   "execution_count": 7,
   "metadata": {},
   "outputs": [],
   "source": [
    "device = 'cuda' if torch.cuda.is_available() else 'cpu'\n",
    "\n",
    "model = torch.nn.Sequential(\n",
    "    torch.nn.Linear(D_in, H),\n",
    "    torch.nn.ReLU(),\n",
    "    torch.nn.Linear(H, D_out),\n",
    "    torch.nn.LogSoftmax(dim=1)\n",
    ")\n",
    "\n",
    "loss_fn = torch.nn.NLLLoss()\n",
    "\n",
    "learning_rate = 1e-4\n",
    "\n",
    "\n",
    "model.to(device)\n",
    "\n",
    "optimizer = torch.optim.Adam(model.parameters(), lr = learning_rate)\n",
    "\n",
    "training_losses = []\n",
    "validation_losses = []"
   ]
  },
  {
   "cell_type": "code",
   "execution_count": 11,
   "metadata": {},
   "outputs": [
    {
     "name": "stdout",
     "output_type": "stream",
     "text": [
      "99 0.788316011428833   [Training]\n",
      "99 0.8408178687095642   [Validation]\n",
      "199 0.49566081166267395   [Training]\n",
      "199 0.5953730940818787   [Validation]\n",
      "299 0.34526288509368896   [Training]\n",
      "299 0.4780306816101074   [Validation]\n",
      "399 0.2556755542755127   [Training]\n",
      "399 0.4151846766471863   [Validation]\n",
      "499 0.19488833844661713   [Training]\n",
      "499 0.378095805644989   [Validation]\n",
      "599 0.15034541487693787   [Training]\n",
      "599 0.35524502396583557   [Validation]\n",
      "699 0.11652354896068573   [Training]\n",
      "699 0.34106674790382385   [Validation]\n",
      "799 0.09076791256666183   [Training]\n",
      "799 0.33274826407432556   [Validation]\n",
      "899 0.07104741036891937   [Training]\n",
      "899 0.3280278742313385   [Validation]\n",
      "999 0.05607368052005768   [Training]\n",
      "999 0.3262142837047577   [Validation]\n"
     ]
    }
   ],
   "source": [
    "for t in range(1000):\n",
    "\n",
    "    x = x.to(device)\n",
    "    y = y.to(device)\n",
    "    \n",
    "    y_pred = model(x)\n",
    "\n",
    "    loss = loss_fn(y_pred, y)\n",
    "    if t % 100 == 99:\n",
    "        print(t, loss.item(),\"  [Training]\")\n",
    "        training_losses.append(loss.item())\n",
    " \n",
    "    optimizer.zero_grad()\n",
    "    loss.backward()\n",
    "    optimizer.step()\n",
    "    \n",
    "    if t % 100 == 99:\n",
    "        with torch.no_grad():\n",
    "            x_valid = x_validation.to(device)\n",
    "            y_valid = Y_validation.to(device)\n",
    "            y_pred2 = model(x_valid)\n",
    "            loss = loss_fn(y_pred2, y_valid)\n",
    "            print(t, loss.item(),\"  [Validation]\" )\n",
    "            validation_losses.append(loss.item())\n"
   ]
  },
  {
   "cell_type": "code",
   "execution_count": 12,
   "metadata": {},
   "outputs": [
    {
     "data": {
      "image/png": "[encoded data removed]",
      "text/plain": [
       "<Figure size 432x288 with 1 Axes>"
      ]
     },
     "metadata": {
      "needs_background": "light"
     },
     "output_type": "display_data"
    }
   ],
   "source": [
    "plt.plot(training_losses, '-r')\n",
    "plt.plot(validation_losses, '-g')\n",
    "plt.show()         "
   ]
  },
  {
   "cell_type": "code",
   "execution_count": 13,
   "metadata": {},
   "outputs": [
    {
     "name": "stdout",
     "output_type": "stream",
     "text": [
      "Training Accuracy =  99.70326409495549 %\n",
      "Validation Accuracy =  89.02077151335311 %\n",
      "Test Accuracy =  91.0979228486647 %\n"
     ]
    }
   ],
   "source": [
    "with torch.no_grad():\n",
    "    y_pred = model(x)\n",
    "    y_pred = torch.argmax(torch.exp(y_pred), dim=1)\n",
    "    acc = (torch.sum(y_pred==y).item() / len(y)) * 100\n",
    "    print(\"Training Accuracy = \", acc, \"%\")    \n",
    "\n",
    "    x_valid = x_validation.to(device)\n",
    "    y_valid = Y_validation.to(device)\n",
    "    y_pred = model(x_valid)\n",
    "    y_pred = torch.argmax(torch.exp(y_pred), dim=1)\n",
    "    acc = (torch.sum(y_pred==y_valid).item() / len(y_valid)) * 100\n",
    "    print(\"Validation Accuracy = \", acc, \"%\")\n",
    "\n",
    "    x_test = x_test.to(device)\n",
    "    y_test = y_test.to(device)\n",
    "\n",
    "    y_pred = model(x_test)\n",
    "    y_pred = torch.argmax(torch.exp(y_pred), dim=1)\n",
    "    acc = (torch.sum(y_pred==y_test).item() / len(y_test)) * 100\n",
    "    print(\"Test Accuracy = \", acc, \"%\")"
   ]
  }
 ],
 "metadata": {
  "interpreter": {
   "hash": "af19850de543c87aa9c5433cdfdc668182c4fce690f4a520383c35fe24f2761b"
  },
  "kernelspec": {
   "display_name": "Python 3.9.5 64-bit",
   "language": "python",
   "name": "python3"
  },
  "language_info": {
   "codemirror_mode": {
    "name": "ipython",
    "version": 3
   },
   "file_extension": ".py",
   "mimetype": "text/x-python",
   "name": "python",
   "nbconvert_exporter": "python",
   "pygments_lexer": "ipython3",
   "version": "3.9.5"
  },
  "orig_nbformat": 4
 },
 "nbformat": 4,
 "nbformat_minor": 2
}
