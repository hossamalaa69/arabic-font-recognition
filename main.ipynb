{
 "cells": [
  {
   "cell_type": "code",
   "execution_count": 66,
   "metadata": {},
   "outputs": [],
   "source": [
    "import cv2\n",
    "import os\n",
    "import matplotlib.pyplot as plt\n",
    "import numpy as np\n",
    "from sklearn.model_selection import train_test_split\n"
   ]
  },
  {
   "cell_type": "code",
   "execution_count": 67,
   "metadata": {},
   "outputs": [],
   "source": [
    "def getBorderColor(img):\n",
    "    \n",
    "    border = np.asarray(img[0,:])\n",
    "    border = np.concatenate((border, np.asarray(img[-1, :])))\n",
    "    border = np.concatenate((border, np.asarray(img[:, 0])))\n",
    "    border = np.concatenate((border, np.asarray(img[:, -1])))\n",
    "    return np.bincount(border).argmax()\n",
    "\n",
    "\n",
    "def pre_processing(img):\n",
    "    _, img_binarized = cv2.threshold(img, 120, 255, cv2.THRESH_BINARY + cv2.THRESH_OTSU)    \n",
    "    if(getBorderColor(img_binarized) != 0):\n",
    "        img_binarized = cv2.bitwise_not(img_binarized) \n",
    "    return img_binarized\n",
    "\n",
    "\n",
    "\n",
    "def showImage(img):\n",
    "    plt.imshow(img, cmap='gray')\n",
    "    plt.show()    \n",
    "\n",
    "\n",
    "\n",
    "def getFeaturesHOG(img):\n",
    "   img = cv2.resize(img, (256, 128))\n",
    "   cell_size = (32, 32)  # h x w in pixels\n",
    "   block_size = (2, 2)  # h x w in cells\n",
    "   nbins = 9  # number of orientation bins\n",
    "   # winSize is the size of the image cropped to an multiple of the cell size\n",
    "   hog = cv2.HOGDescriptor(_winSize=(img.shape[1] // cell_size[1] * cell_size[1],\n",
    "                                    img.shape[0] // cell_size[0] * cell_size[0]),\n",
    "                            _blockSize=(block_size[1] * cell_size[1],\n",
    "                                        block_size[0] * cell_size[0]),\n",
    "                            _blockStride=(cell_size[1], cell_size[0]),\n",
    "                            _cellSize=(cell_size[1], cell_size[0]),\n",
    "                            _nbins=nbins)\n",
    "\n",
    "   hog_feats = hog.compute(img)\n",
    "   return hog_feats.flatten()     "
   ]
  },
  {
   "cell_type": "markdown",
   "metadata": {},
   "source": [
    "# Read Data, Split Training, Validation, Test"
   ]
  },
  {
   "cell_type": "code",
   "execution_count": 70,
   "metadata": {},
   "outputs": [],
   "source": [
    "data_set = []\n",
    "Y = []\n",
    "for i in range(1, 10):\n",
    "    for filename in os.listdir(\"ACdata_base/\" + str(i)):\n",
    "        img = cv2.imread(os.path.join(\"ACdata_base/\" + str(i),filename), cv2.IMREAD_GRAYSCALE)\n",
    "        if img is not None:\n",
    "            data_set.append(pre_processing(img))\n",
    "            Y.append(i)\n",
    "            \n",
    "X_train, X_testValid, Y_train, Y_testValid = train_test_split(data_set, Y, test_size=0.4, random_state=42)\n",
    "X_validation, X_test, Y_validation, Y_test = train_test_split(X_testValid, Y_testValid, test_size=0.5, random_state=42)            "
   ]
  },
  {
   "cell_type": "code",
   "execution_count": 38,
   "metadata": {},
   "outputs": [],
   "source": [
    "\n",
    "# for i in range(len(test_set)):\n",
    "#     for j in range(len(test_set[i])):\n",
    "#         showImage(test_set[i][j])"
   ]
  },
  {
   "cell_type": "code",
   "execution_count": 80,
   "metadata": {},
   "outputs": [],
   "source": [
    "def getTrainFeatures():\n",
    "   x_features = []\n",
    "   for i in range(len(X_train)):\n",
    "        x_features.append(getFeaturesHOG(X_train[i]))\n",
    "   return np.asarray(x_features)"
   ]
  },
  {
   "cell_type": "code",
   "execution_count": 81,
   "metadata": {},
   "outputs": [
    {
     "name": "stdout",
     "output_type": "stream",
     "text": [
      "(1011, 756)\n",
      "[8, 8, 4, 3, 2, 2, 6, 8, 7, 7, 7, 9, 4, 2, 5, 2, 7, 7, 8, 1, 1, 1, 4, 2, 6, 7, 4, 2, 6, 1, 3, 5, 7, 6, 9, 3, 1, 8, 3, 2, 7, 3, 2, 5, 2, 6, 5, 5, 9, 4, 2, 3, 4, 3, 4, 8, 9, 1, 7, 6, 3, 2, 1, 2, 3, 5, 1, 3, 2, 1, 8, 8, 9, 6, 9, 9, 6, 9, 4, 9, 9, 4, 6, 9, 2, 9, 2, 3, 9, 2, 7, 8, 9, 9, 3, 3, 4, 9, 2, 5, 6, 8, 6, 2, 5, 9, 6, 9, 1, 3, 4, 1, 2, 7, 8, 3, 5, 8, 1, 9, 2, 6, 6, 5, 9, 4, 7, 9, 8, 3, 2, 5, 6, 2, 8, 4, 1, 1, 2, 8, 7, 4, 2, 9, 2, 5, 1, 8, 3, 9, 5, 4, 6, 4, 4, 8, 4, 1, 2, 5, 1, 2, 4, 1, 9, 1, 2, 1, 7, 2, 1, 6, 6, 5, 1, 5, 8, 6, 5, 1, 9, 3, 2, 6, 7, 7, 6, 3, 6, 7, 4, 3, 6, 5, 8, 6, 6, 1, 6, 1, 4, 6, 8, 2, 2, 4, 2, 3, 8, 6, 5, 1, 7, 7, 1, 6, 6, 1, 5, 1, 2, 9, 1, 7, 3, 1, 8, 3, 8, 2, 6, 1, 1, 5, 5, 1, 1, 8, 1, 8, 3, 5, 3, 1, 2, 2, 3, 6, 5, 2, 9, 5, 1, 6, 9, 4, 7, 7, 3, 1, 3, 1, 9, 5, 7, 2, 9, 5, 2, 8, 8, 9, 5, 5, 4, 3, 2, 8, 2, 2, 7, 6, 1, 8, 4, 2, 7, 7, 1, 1, 7, 1, 5, 7, 8, 3, 3, 5, 4, 8, 8, 1, 8, 7, 1, 1, 1, 1, 3, 6, 4, 9, 7, 3, 5, 5, 4, 5, 6, 6, 6, 8, 7, 3, 8, 6, 9, 1, 4, 9, 6, 4, 6, 5, 7, 9, 1, 2, 5, 5, 7, 2, 2, 1, 9, 2, 8, 8, 1, 7, 9, 8, 6, 1, 3, 4, 2, 5, 3, 5, 5, 8, 9, 3, 6, 6, 3, 4, 9, 5, 4, 3, 4, 7, 8, 6, 2, 4, 7, 2, 6, 5, 4, 6, 6, 7, 8, 9, 8, 8, 5, 1, 5, 6, 4, 7, 1, 1, 5, 8, 5, 3, 8, 2, 3, 6, 5, 5, 9, 3, 7, 7, 4, 1, 1, 4, 1, 9, 5, 8, 6, 7, 9, 3, 2, 1, 6, 9, 6, 1, 5, 3, 6, 6, 6, 4, 5, 4, 2, 4, 7, 8, 5, 6, 1, 7, 4, 5, 6, 6, 8, 8, 7, 5, 8, 5, 4, 4, 3, 2, 1, 3, 3, 1, 6, 8, 7, 7, 4, 1, 5, 7, 9, 2, 1, 4, 9, 7, 6, 8, 4, 2, 5, 3, 4, 5, 9, 4, 3, 6, 5, 4, 1, 3, 9, 6, 4, 9, 1, 5, 7, 9, 5, 3, 1, 3, 2, 6, 4, 8, 9, 4, 5, 1, 5, 8, 2, 2, 9, 6, 3, 6, 5, 8, 5, 7, 9, 3, 1, 2, 8, 2, 3, 3, 2, 5, 8, 6, 9, 1, 6, 6, 6, 4, 9, 6, 1, 6, 9, 9, 5, 4, 4, 7, 8, 3, 3, 7, 6, 5, 3, 4, 7, 9, 7, 5, 1, 4, 6, 5, 1, 4, 9, 4, 2, 2, 4, 5, 5, 5, 1, 8, 6, 5, 5, 7, 9, 1, 6, 8, 2, 8, 9, 3, 6, 6, 5, 9, 2, 8, 2, 1, 7, 7, 4, 1, 8, 4, 5, 6, 7, 3, 6, 4, 3, 3, 2, 1, 4, 1, 5, 5, 9, 3, 5, 3, 5, 6, 7, 2, 7, 5, 3, 1, 6, 5, 4, 4, 4, 9, 1, 1, 7, 9, 5, 6, 9, 2, 7, 6, 9, 8, 4, 1, 2, 3, 8, 8, 9, 3, 6, 3, 1, 7, 7, 1, 6, 9, 3, 4, 8, 6, 8, 6, 9, 2, 5, 9, 2, 1, 8, 3, 9, 2, 1, 5, 6, 3, 8, 9, 4, 9, 4, 8, 7, 7, 9, 7, 9, 5, 1, 6, 7, 5, 8, 5, 5, 1, 9, 3, 7, 7, 8, 1, 4, 8, 7, 1, 1, 3, 9, 2, 9, 7, 8, 1, 6, 9, 6, 3, 2, 8, 5, 8, 5, 9, 4, 2, 8, 2, 8, 1, 3, 4, 9, 9, 3, 5, 3, 9, 7, 1, 9, 3, 6, 9, 4, 8, 3, 8, 1, 7, 7, 4, 1, 5, 6, 2, 5, 2, 2, 9, 3, 1, 7, 2, 5, 2, 8, 9, 9, 7, 8, 3, 8, 5, 2, 4, 1, 1, 4, 9, 6, 8, 8, 8, 7, 9, 3, 7, 7, 8, 4, 9, 7, 8, 2, 4, 8, 8, 4, 8, 7, 6, 4, 4, 8, 8, 8, 7, 9, 7, 9, 8, 8, 9, 9, 5, 4, 6, 3, 4, 4, 6, 7, 7, 3, 6, 3, 7, 5, 9, 8, 3, 1, 6, 4, 7, 4, 5, 8, 5, 6, 2, 3, 5, 5, 3, 5, 9, 7, 6, 4, 9, 4, 6, 4, 4, 1, 5, 3, 3, 6, 6, 5, 5, 2, 1, 6, 1, 6, 2, 9, 2, 2, 3, 3, 4, 9, 7, 6, 9, 4, 7, 8, 3, 1, 1, 7, 6, 3, 2, 1, 5, 2, 5, 6, 5, 2, 4, 2, 6, 7, 8, 3, 9, 5, 2, 6, 2, 1, 9, 4, 3, 4, 9, 7, 4, 8, 6, 6, 8, 9, 6, 2, 1, 5, 3, 8, 8, 9, 8, 1, 8, 5, 4, 8, 5, 2, 1, 2, 4, 3, 7, 1, 5, 1, 4, 9, 7, 9, 5, 7, 9, 4, 9, 4, 6, 1, 6, 4, 9, 3, 6, 3, 9, 5, 5, 2, 1, 8, 3, 7, 2, 6, 7, 3, 5, 8, 9, 2, 5, 8, 1, 5, 7, 8, 1, 8, 2, 7, 3, 1, 9, 6, 6, 7, 7, 5, 8, 7]\n"
     ]
    }
   ],
   "source": [
    "x_features = getTrainFeatures()\n",
    "print(x_features.shape)\n",
    "print(Y_train)\n"
   ]
  }
 ],
 "metadata": {
  "interpreter": {
   "hash": "af19850de543c87aa9c5433cdfdc668182c4fce690f4a520383c35fe24f2761b"
  },
  "kernelspec": {
   "display_name": "Python 3.9.5 64-bit",
   "language": "python",
   "name": "python3"
  },
  "language_info": {
   "codemirror_mode": {
    "name": "ipython",
    "version": 3
   },
   "file_extension": ".py",
   "mimetype": "text/x-python",
   "name": "python",
   "nbconvert_exporter": "python",
   "pygments_lexer": "ipython3",
   "version": "3.9.5"
  },
  "orig_nbformat": 4
 },
 "nbformat": 4,
 "nbformat_minor": 2
}
